{
 "cells": [
  {
   "cell_type": "code",
   "execution_count": 1,
   "metadata": {},
   "outputs": [],
   "source": [
    "import random #Random Function\n",
    "import os\n",
    "import time\n",
    "import datetime"
   ]
  },
  {
   "cell_type": "code",
   "execution_count": 2,
   "metadata": {},
   "outputs": [],
   "source": [
    "def check_for_int(mystring):\n",
    "    return mystring.isdigit()"
   ]
  },
  {
   "cell_type": "code",
   "execution_count": 3,
   "metadata": {},
   "outputs": [
    {
     "name": "stdout",
     "output_type": "stream",
     "text": [
      "What is your name?\n",
      "Jon\n",
      "Which multiplication table do you want to try? 3\n",
      "\n",
      "Jon, welcome to the Papa 'Kitty' Math Test\n",
      "\n",
      "You have 15 questions to solve and 2.5 seconds per question.  Good luck.  May the Kitty be with you.\n",
      "\n"
     ]
    }
   ],
   "source": [
    "print(\"What is your name?\") #Asking User Name\n",
    "name = input().title() #.title() capitilises the first letter in each word, so when the name is printed in later code the first letter will always be capitilised.\n",
    "class_name = input(\"Which multiplication table do you want to try? \")\n",
    "while class_name.isdigit() == False or (class_name.isdigit() and int(class_name) > 21):\n",
    "    class_name = input(\"Which multiplication table do you want to try? \")\n",
    "class_name = int(class_name)\n",
    "\n",
    "num_questions = 15\n",
    "\n",
    "print(\"\\n%s, welcome to the Papa 'Kitty' Math Test\\n\" % name)\n",
    "print('You have %d questions to solve and 2.5 seconds per question.  Good luck.  May the Kitty be with you.\\n' % num_questions)\n",
    "score = 0  #Set Score to 0\n",
    "\n"
   ]
  },
  {
   "cell_type": "code",
   "execution_count": 4,
   "metadata": {},
   "outputs": [
    {
     "data": {
      "text/plain": [
       "False"
      ]
     },
     "execution_count": 4,
     "metadata": {},
     "output_type": "execute_result"
    }
   ],
   "source": [
    "(\"123.\".isdigit())"
   ]
  },
  {
   "cell_type": "code",
   "execution_count": 5,
   "metadata": {},
   "outputs": [
    {
     "name": "stdout",
     "output_type": "stream",
     "text": [
      "Press Enter to begin\n",
      "\n",
      "What is 3 * 2: \n",
      "\n",
      "What is 3 * 2: \n",
      "0\n",
      "Ooops! The correct answer is 6\n",
      "\n",
      "What is 3 * 3: \n",
      "0\n",
      "Ooops! The correct answer is 9\n",
      "\n",
      "What is 3 * 3: \n",
      "0\n",
      "Ooops! The correct answer is 9\n",
      "\n",
      "What is 3 * 3: \n",
      "0\n",
      "Ooops! The correct answer is 9\n",
      "\n",
      "What is 3 * 6: \n",
      "0\n",
      "Ooops! The correct answer is 18\n",
      "\n",
      "What is 3 * 10: \n",
      "0\n",
      "Ooops! The correct answer is 30\n",
      "\n",
      "What is 3 * 12: \n",
      "0\n",
      "Ooops! The correct answer is 36\n",
      "\n",
      "What is 3 * 12: \n",
      "00\n",
      "Ooops! The correct answer is 36\n",
      "\n",
      "What is 3 * 5: \n",
      "0\n",
      "Ooops! The correct answer is 15\n",
      "\n",
      "What is 3 * 10: \n",
      "0\n",
      "Ooops! The correct answer is 30\n",
      "\n",
      "What is 3 * 12: \n",
      "0\n",
      "Ooops! The correct answer is 36\n",
      "\n",
      "What is 3 * 9: \n",
      "0\n",
      "Ooops! The correct answer is 27\n",
      "\n",
      "What is 3 * 1: \n",
      "0\n",
      "Ooops! The correct answer is 3\n",
      "\n",
      "What is 3 * 9: \n",
      "0\n",
      "Ooops! The correct answer is 27\n",
      "\n",
      "What is 3 * 4: \n",
      "0\n",
      "Ooops! The correct answer is 12\n",
      "\n"
     ]
    }
   ],
   "source": [
    "correct = 0\n",
    "question = 0\n",
    "goal = 2.5 * num_questions\n",
    "\n",
    "input('Press Enter to begin\\n')\n",
    "start = time.time()\n",
    "while question < num_questions: #After 10 Questions, it will stop asking the user questions.\n",
    "    num1 = class_name#Random Number between 1 and 10 to be used in the questions\n",
    "    num2 = random.randint(1,12)#Random Number between 1 and 10 to be used in the questions\n",
    "    ans = num1 * num2\n",
    "    kid_answer_raw = \"\"\n",
    "    \n",
    "    while check_for_int(kid_answer_raw) == False:  \n",
    "        kid_answer_raw = input(\"What is %d * %d: \\n\" % (num1, num2))\n",
    "    \n",
    "    kid_answer = int(kid_answer_raw) \n",
    "    if kid_answer == ans:\n",
    "        correct = correct+1\n",
    "        print('Correct!\\n')\n",
    "    else:\n",
    "        print('Ooops! The correct answer is %d\\n' % ans)\n",
    "    question+=1\n",
    "    \n",
    "    end = time.time()\n",
    "duration = end-start"
   ]
  },
  {
   "cell_type": "code",
   "execution_count": 6,
   "metadata": {},
   "outputs": [
    {
     "name": "stdout",
     "output_type": "stream",
     "text": [
      "You finished within 3 seconds\n",
      "Nice try, you got 15 incorrect\n"
     ]
    }
   ],
   "source": [
    "#### print('You got %d out of %d correct' % (correct, num_questions))\n",
    "print('You finished within %d seconds' % int(duration))\n",
    "\n",
    "victory_flag = False\n",
    "\n",
    "if correct == num_questions:\n",
    "    print('Nice job my young padawan, you got them all correct')\n",
    "    \n",
    "    if duration <= goal:\n",
    "        print('You also finished in time - congratulations!  Meow.')\n",
    "        victory_flag = True\n",
    "        \n",
    "else:\n",
    "    print('Nice try, you got %d incorrect' % (num_questions-correct))"
   ]
  },
  {
   "cell_type": "code",
   "execution_count": 7,
   "metadata": {},
   "outputs": [
    {
     "name": "stdout",
     "output_type": "stream",
     "text": [
      "0\n"
     ]
    },
    {
     "data": {
      "text/plain": [
       "'0'"
      ]
     },
     "execution_count": 7,
     "metadata": {},
     "output_type": "execute_result"
    }
   ],
   "source": [
    "now = datetime.datetime.now()\n",
    "# now.strftime(\"%Y-%m-%d\")\n",
    "\n",
    "\n",
    "class_name_write = '%s_multipliation_tables.txt' % (name)\n",
    "\n",
    "file = open(class_name_write , 'a')   #opens the file in 'append' mode so you don't delete all the information\n",
    "\n",
    "# file.write()\n",
    "# file.write(str(name + \" : \" )) #writes the information to the file\n",
    "\n",
    "file.write(now.strftime(\"%Y-%m-%d\"))\n",
    "file.write('\\n')\n",
    "file.write('%d times tables: %d / %d || %.2f seconds %s' % (class_name, correct, num_questions, duration, '+' if victory_flag else 'X'))\n",
    "# file.write(str(correct))\n",
    "file.write('\\n \\n')\n",
    "file.close()    #safely closes the file to save the information\n",
    "input(\"\")\n"
   ]
  }
 ],
 "metadata": {
  "kernelspec": {
   "display_name": "Python 3",
   "language": "python",
   "name": "python3"
  },
  "language_info": {
   "codemirror_mode": {
    "name": "ipython",
    "version": 3
   },
   "file_extension": ".py",
   "mimetype": "text/x-python",
   "name": "python",
   "nbconvert_exporter": "python",
   "pygments_lexer": "ipython3",
   "version": "3.6.4"
  }
 },
 "nbformat": 4,
 "nbformat_minor": 2
}
