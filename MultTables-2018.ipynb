{
 "cells": [
  {
   "cell_type": "code",
   "execution_count": null,
   "metadata": {},
   "outputs": [],
   "source": [
    "import random #Random Function\n",
    "import os\n",
    "import time\n",
    "import datetime"
   ]
  },
  {
   "cell_type": "code",
   "execution_count": null,
   "metadata": {},
   "outputs": [],
   "source": [
    "def check_for_int(mystring):\n",
    "    return mystring.isdigit()"
   ]
  },
  {
   "cell_type": "code",
   "execution_count": null,
   "metadata": {},
   "outputs": [],
   "source": [
    "print(\"What is your name?\")\n",
    "\n",
    "name_number=\"\"\n",
    "\n",
    "while check_for_int(name_number) == False:  \n",
    "    name_number = input(\"Is your name: (1) Antalya; (2) Anaiya? Please enter 1 or 2.\\n\")\n",
    "    if name_number.isdigit() == False or int(name_number) < 1 or int(name_number) > 2:\n",
    "        name_number = \"\"\n",
    "\n",
    "name_number = int(name_number)\n",
    "#print(name_number)\n",
    "\n",
    "if name_number == 1:\n",
    "    print(\"Welcome Ant Monster.  You can carry fifty times your weight!\")\n",
    "    name=\"Antalya\"\n",
    "else:\n",
    "        print(\"Wecome Root.  None of your bears!\")\n",
    "        name=\"Anaiya\""
   ]
  },
  {
   "cell_type": "code",
   "execution_count": null,
   "metadata": {},
   "outputs": [],
   "source": [
    "#print(\"What is your name?\") #Asking User Name\n",
    "#name = input().title() #.title() capitilises the first letter in each word, so when the name is printed in later code the first letter will always be capitilised.\n",
    "class_name = input(\"Which multiplication table do you want to try? \")\n",
    "while class_name.isdigit() == False or (class_name.isdigit() and int(class_name) > 21):\n",
    "    class_name = input(\"Which multiplication table do you want to try? \")\n",
    "class_name = int(class_name)\n",
    "\n",
    "num_questions = 15\n",
    "\n",
    "print(\"\\n%s, this is the Papa 'Kitty' Math Test\\n\" % name)\n",
    "print('You have %d questions to solve and 2.67 seconds per question.  \\nGood luck.  \\nMay the Kitty be with you.\\n' % num_questions)\n",
    "score = 0  #Set Score to 0\n",
    "\n"
   ]
  },
  {
   "cell_type": "code",
   "execution_count": null,
   "metadata": {},
   "outputs": [],
   "source": [
    "(\"123.\".isdigit())"
   ]
  },
  {
   "cell_type": "code",
   "execution_count": null,
   "metadata": {},
   "outputs": [],
   "source": [
    "correct = 0\n",
    "question = 0\n",
    "goal = 2.66666666666667 * num_questions\n",
    "\n",
    "input('Press Enter to begin\\n')\n",
    "start = time.time()\n",
    "while question < num_questions: #After 15 Questions, it will stop asking the user questions.\n",
    "    num1 = class_name#Random Number between 1 and 10 to be used in the questions\n",
    "    num2 = random.randint(1,12)#Random Number between 1 and 10 to be used in the questions\n",
    "    ans = num1 * num2\n",
    "    kid_answer_raw = \"\"\n",
    "    \n",
    "    while check_for_int(kid_answer_raw) == False:  \n",
    "        kid_answer_raw = input(\"Question #%d  What is %d * %d: \\n\" % (question+1,num1, num2))\n",
    "    \n",
    "    kid_answer = int(kid_answer_raw) \n",
    "    if kid_answer == ans:\n",
    "        correct = correct+1\n",
    "        print('Correct!\\n')\n",
    "    else:\n",
    "        print('Ooops! The correct answer is %d\\n' % ans)\n",
    "    question+=1\n",
    "    \n",
    "    end = time.time()\n",
    "duration = end-start"
   ]
  },
  {
   "cell_type": "code",
   "execution_count": null,
   "metadata": {},
   "outputs": [],
   "source": [
    "#### print('You got %d out of %d correct' % (correct, num_questions))\n",
    "print('You finished within %d seconds' % int(duration))\n",
    "\n",
    "victory_flag = False\n",
    "\n",
    "if correct == num_questions:\n",
    "    print('Nice job my young padawan, you got them all correct')\n",
    "    \n",
    "    if duration <= goal:\n",
    "        print('You also finished in time - congratulations!  Meow.')\n",
    "        victory_flag = True\n",
    "        \n",
    "else:\n",
    "    print('Nice try, you got %d incorrect' % (num_questions-correct))"
   ]
  },
  {
   "cell_type": "code",
   "execution_count": null,
   "metadata": {},
   "outputs": [],
   "source": []
  },
  {
   "cell_type": "code",
   "execution_count": null,
   "metadata": {},
   "outputs": [],
   "source": [
    "now = datetime.datetime.now()\n",
    "# now.strftime(\"%Y-%m-%d\")\n",
    "\n",
    "\n",
    "class_name_write = '%s_multipliation_tables.txt' % (name)\n",
    "\n",
    "file = open(class_name_write , 'a')   #opens the file in 'append' mode so you don't delete all the information\n",
    "\n",
    "# file.write()\n",
    "# file.write(str(name + \" : \" )) #writes the information to the file\n",
    "\n",
    "file.write(now.strftime(\"%Y-%m-%d\"))\n",
    "file.write('\\n')\n",
    "file.write('%d times tables: %d / %d || %.2f seconds %s' % (class_name, correct, num_questions, duration, '+' if victory_flag else 'X'))\n",
    "# file.write(str(correct))\n",
    "file.write('\\n \\n')\n",
    "file.close()    #safely closes the file to save the information\n",
    "input(\"\")\n"
   ]
  }
 ],
 "metadata": {
  "kernelspec": {
   "display_name": "Python 3",
   "language": "python",
   "name": "python3"
  },
  "language_info": {
   "codemirror_mode": {
    "name": "ipython",
    "version": 3
   },
   "file_extension": ".py",
   "mimetype": "text/x-python",
   "name": "python",
   "nbconvert_exporter": "python",
   "pygments_lexer": "ipython3",
   "version": "3.6.4"
  }
 },
 "nbformat": 4,
 "nbformat_minor": 2
}
