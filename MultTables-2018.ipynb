{
 "cells": [
  {
   "cell_type": "code",
   "execution_count": 1,
   "metadata": {},
   "outputs": [],
   "source": [
    "import random #Random Function\n",
    "import os\n",
    "import time\n",
    "import datetime\n",
    "from email_info import username_import, password_import"
   ]
  },
  {
   "cell_type": "code",
   "execution_count": 2,
   "metadata": {},
   "outputs": [],
   "source": [
    "def check_for_int(mystring):\n",
    "    return mystring.isdigit()"
   ]
  },
  {
   "cell_type": "code",
   "execution_count": 3,
   "metadata": {},
   "outputs": [],
   "source": [
    "def send_mail(recipient, message, subjectHeading, username=username_import, password=password_import):\n",
    "    import smtplib\n",
    "    from email.mime.multipart import MIMEMultipart\n",
    "    from email.mime.text import MIMEText\n",
    "    \n",
    "#    recipient = 'mbadi@bcg.com'\n",
    "#    message='your message here '\n",
    "\n",
    "    msg = MIMEMultipart()\n",
    "    msg['From'] = username\n",
    "    msg['To'] = recipient\n",
    "    msg['Subject'] = subjectHeading\n",
    "    msg.attach(message)\n",
    "\n",
    "    mailServer = smtplib.SMTP('mail533.pair.com', 587)\n",
    "    mailServer.ehlo()\n",
    "    mailServer.starttls()\n",
    "    mailServer.ehlo()\n",
    "    mailServer.login(username, password)\n",
    "    mailServer.sendmail(username, recipient, msg.as_string())\n",
    "    mailServer.close()"
   ]
  },
  {
   "cell_type": "code",
   "execution_count": 4,
   "metadata": {},
   "outputs": [
    {
     "name": "stdout",
     "output_type": "stream",
     "text": [
      "What is your name?\n",
      "Is your name: (1) Antalya; (2) Anaiya? Please enter 1 or 2.\n",
      "1\n",
      "Welcome Ant Monster.  You can carry fifty times your weight!\n"
     ]
    }
   ],
   "source": [
    "print(\"What is your name?\")\n",
    "\n",
    "name_number=\"\"\n",
    "\n",
    "while check_for_int(name_number) == False:  \n",
    "    name_number = input(\"Is your name: (1) Antalya; (2) Anaiya? Please enter 1 or 2.\\n\")\n",
    "    if name_number.isdigit() == False or int(name_number) < 1 or int(name_number) > 2:\n",
    "        name_number = \"\"\n",
    "\n",
    "name_number = int(name_number)\n",
    "#print(name_number)\n",
    "\n",
    "if name_number == 1:\n",
    "    print(\"Welcome Ant Monster.  You can carry fifty times your weight!\")\n",
    "    name=\"Antalya\"\n",
    "else:\n",
    "        print(\"Wecome Root.  None of your bears!\")\n",
    "        name=\"Anaiya\""
   ]
  },
  {
   "cell_type": "code",
   "execution_count": 5,
   "metadata": {},
   "outputs": [
    {
     "name": "stdout",
     "output_type": "stream",
     "text": [
      "Which multiplication table do you want to try? 0\n",
      "\n",
      "Antalya, this is the Papa 'Kitty' Math Test\n",
      "\n",
      "You have 15 questions to solve and 2.67 seconds per question.  \n",
      "Good luck.  \n",
      "May the Kitty be with you.\n",
      "\n"
     ]
    }
   ],
   "source": [
    "#print(\"What is your name?\") #Asking User Name\n",
    "#name = input().title() #.title() capitilises the first letter in each word, so when the name is printed in later code the first letter will always be capitilised.\n",
    "class_name = input(\"Which multiplication table do you want to try? \")\n",
    "while class_name.isdigit() == False or (class_name.isdigit() and int(class_name) > 21):\n",
    "    class_name = input(\"Which multiplication table do you want to try? \")\n",
    "class_name = int(class_name)\n",
    "\n",
    "num_questions = 15\n",
    "\n",
    "print(\"\\n%s, this is the Papa 'Kitty' Math Test\\n\" % name)\n",
    "print('You have %d questions to solve and 2.67 seconds per question.  \\nGood luck.  \\nMay the Kitty be with you.\\n' % num_questions)\n",
    "score = 0  #Set Score to 0\n",
    "\n"
   ]
  },
  {
   "cell_type": "code",
   "execution_count": 6,
   "metadata": {},
   "outputs": [
    {
     "data": {
      "text/plain": [
       "False"
      ]
     },
     "execution_count": 6,
     "metadata": {},
     "output_type": "execute_result"
    }
   ],
   "source": [
    "(\"123.\".isdigit())"
   ]
  },
  {
   "cell_type": "code",
   "execution_count": 7,
   "metadata": {},
   "outputs": [
    {
     "name": "stdout",
     "output_type": "stream",
     "text": [
      "Press Enter to begin\n",
      "\n",
      "Question #1  What is 0 * 6: \n",
      "0\n",
      "Correct!\n",
      "\n",
      "Question #2  What is 0 * 3: \n",
      "0\n",
      "Correct!\n",
      "\n",
      "Question #3  What is 0 * 3: \n",
      "0\n",
      "Correct!\n",
      "\n",
      "Question #4  What is 0 * 9: \n",
      "0\n",
      "Correct!\n",
      "\n",
      "Question #5  What is 0 * 11: \n",
      "0\n",
      "Correct!\n",
      "\n",
      "Question #6  What is 0 * 4: \n",
      "0\n",
      "Correct!\n",
      "\n",
      "Question #7  What is 0 * 8: \n",
      "0\n",
      "Correct!\n",
      "\n",
      "Question #8  What is 0 * 8: \n",
      "0\n",
      "Correct!\n",
      "\n",
      "Question #9  What is 0 * 3: \n",
      "0\n",
      "Correct!\n",
      "\n",
      "Question #10  What is 0 * 2: \n",
      "0\n",
      "Correct!\n",
      "\n",
      "Question #11  What is 0 * 8: \n",
      "0\n",
      "Correct!\n",
      "\n",
      "Question #12  What is 0 * 5: \n",
      "0\n",
      "Correct!\n",
      "\n",
      "Question #13  What is 0 * 11: \n",
      "0\n",
      "Correct!\n",
      "\n",
      "Question #14  What is 0 * 4: \n",
      "0\n",
      "Correct!\n",
      "\n",
      "Question #15  What is 0 * 4: \n",
      "0\n",
      "Correct!\n",
      "\n"
     ]
    }
   ],
   "source": [
    "correct = 0\n",
    "question = 0\n",
    "goal = 2.66666666666667 * num_questions\n",
    "\n",
    "input('Press Enter to begin\\n')\n",
    "start = time.time()\n",
    "while question < num_questions: #After 15 Questions, it will stop asking the user questions.\n",
    "    num1 = class_name#Random Number between 1 and 10 to be used in the questions\n",
    "    num2 = random.randint(1,12)#Random Number between 1 and 10 to be used in the questions\n",
    "    ans = num1 * num2\n",
    "    kid_answer_raw = \"\"\n",
    "    \n",
    "    while check_for_int(kid_answer_raw) == False:  \n",
    "        kid_answer_raw = input(\"Question #%d  What is %d * %d: \\n\" % (question+1,num1, num2))\n",
    "    \n",
    "    kid_answer = int(kid_answer_raw) \n",
    "    if kid_answer == ans:\n",
    "        correct = correct+1\n",
    "        print('Correct!\\n')\n",
    "    else:\n",
    "        print('Ooops! The correct answer is %d\\n' % ans)\n",
    "    question+=1\n",
    "    \n",
    "    end = time.time()\n",
    "duration = end-start"
   ]
  },
  {
   "cell_type": "code",
   "execution_count": 8,
   "metadata": {},
   "outputs": [
    {
     "name": "stdout",
     "output_type": "stream",
     "text": [
      "You finished within 11 seconds\n",
      "Nice job my young padawan, you got them all correct\n",
      "You also finished in time - congratulations!  Meow.\n"
     ]
    }
   ],
   "source": [
    "#### print('You got %d out of %d correct' % (correct, num_questions))\n",
    "print('You finished within %d seconds' % int(duration))\n",
    "\n",
    "victory_flag = False\n",
    "\n",
    "if correct == num_questions:\n",
    "    print('Nice job my young padawan, you got them all correct')\n",
    "    \n",
    "    if duration <= goal:\n",
    "        print('You also finished in time - congratulations!  Meow.')\n",
    "        victory_flag = True\n",
    "        \n",
    "else:\n",
    "    print('Nice try, you got %d incorrect' % (num_questions-correct))"
   ]
  },
  {
   "cell_type": "code",
   "execution_count": 9,
   "metadata": {},
   "outputs": [
    {
     "name": "stdout",
     "output_type": "stream",
     "text": [
      "\n"
     ]
    },
    {
     "data": {
      "text/plain": [
       "''"
      ]
     },
     "execution_count": 9,
     "metadata": {},
     "output_type": "execute_result"
    }
   ],
   "source": [
    "now = datetime.datetime.now()\n",
    "# now.strftime(\"%Y-%m-%d\")\n",
    "\n",
    "\n",
    "class_name_write = '%s_multipliation_tables.txt' % (name)\n",
    "\n",
    "file = open(class_name_write , 'a')   #opens the file in 'append' mode so you don't delete all the information\n",
    "\n",
    "# file.write()\n",
    "# file.write(str(name + \" : \" )) #writes the information to the file\n",
    "\n",
    "file.write(now.strftime(\"%Y-%m-%d\"))\n",
    "file.write('\\n')\n",
    "file.write('%d times tables: %d / %d || %.2f seconds %s' % (class_name, correct, num_questions, duration, '+' if victory_flag else 'X'))\n",
    "# file.write(str(correct))\n",
    "file.write('\\n \\n')\n",
    "file.close()    #safely closes the file to save the information\n",
    "input(\"\")\n"
   ]
  },
  {
   "cell_type": "code",
   "execution_count": 10,
   "metadata": {},
   "outputs": [],
   "source": [
    "# Import smtplib for the actual sending function\n",
    "import smtplib\n",
    "\n",
    "# Import the email modules we'll need\n",
    "from email.mime.text import MIMEText\n",
    "\n",
    "# Open a plain text file for reading.  For this example, assume that\n",
    "# the text file contains only ASCII characters.\n",
    "fp = open(class_name_write, 'r')\n",
    "# Create a text/plain message\n",
    "msg = MIMEText(fp.read())\n",
    "fp.close()"
   ]
  },
  {
   "cell_type": "code",
   "execution_count": 11,
   "metadata": {},
   "outputs": [],
   "source": [
    "send_mail(recipient='mbadi@bcg.com', message=msg, subjectHeading='kitty math for %s' % name)"
   ]
  }
 ],
 "metadata": {
  "kernelspec": {
   "display_name": "Python 3",
   "language": "python",
   "name": "python3"
  },
  "language_info": {
   "codemirror_mode": {
    "name": "ipython",
    "version": 3
   },
   "file_extension": ".py",
   "mimetype": "text/x-python",
   "name": "python",
   "nbconvert_exporter": "python",
   "pygments_lexer": "ipython3",
   "version": "3.6.4"
  }
 },
 "nbformat": 4,
 "nbformat_minor": 2
}
